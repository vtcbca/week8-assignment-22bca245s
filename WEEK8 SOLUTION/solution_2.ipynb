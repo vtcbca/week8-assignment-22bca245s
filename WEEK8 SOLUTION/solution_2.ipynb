{
 "cells": [
  {
   "cell_type": "markdown",
   "id": "d1854687",
   "metadata": {},
   "source": [
    "### Sales (sid, year, totalsales)\n",
    "#### Create above table into a SQLite database with appropriate constraints. "
   ]
  },
  {
   "cell_type": "code",
   "execution_count": 1,
   "id": "064d5b2b",
   "metadata": {},
   "outputs": [],
   "source": [
    "import sqlite3 as sq"
   ]
  },
  {
   "cell_type": "code",
   "execution_count": 2,
   "id": "083d06c1",
   "metadata": {},
   "outputs": [],
   "source": [
    "#file=\"E:\\\\product_selling1.csv\"\n",
    "conn=sq.connect(\"E:\\\\SALES_DB.db\")\n",
    "create=\"\"\"create table  IF NOT EXISTS sales1\n",
    "        (\n",
    "        sid int PRIMARY KEY,\n",
    "        year int NOT NULL,\n",
    "        totalsales NOT NULL\n",
    "        )\"\"\""
   ]
  },
  {
   "cell_type": "code",
   "execution_count": 3,
   "id": "9110a6d4",
   "metadata": {},
   "outputs": [
    {
     "data": {
      "text/plain": [
       "<sqlite3.Cursor at 0x20745353e40>"
      ]
     },
     "execution_count": 3,
     "metadata": {},
     "output_type": "execute_result"
    }
   ],
   "source": [
    "cur=conn.cursor()\n",
    "cur.execute(create)\n"
   ]
  },
  {
   "cell_type": "markdown",
   "id": "cd0bb9ee",
   "metadata": {},
   "source": [
    "### A. Insert at least 5-10 records into the sales table."
   ]
  },
  {
   "cell_type": "code",
   "execution_count": 4,
   "id": "789113b4",
   "metadata": {},
   "outputs": [],
   "source": [
    "ins=\"\"\"insert into sales1 values\n",
    "                            (1,2018,53000),\n",
    "                            (2,2019,44556),\n",
    "                            (3,2020,54466),\n",
    "                            (4,2021,34555),\n",
    "                            (5,2022,36556),\n",
    "                            (6,2023,34463),\n",
    "                            (7,2017,34453),\n",
    "                            (8,2016,22614),\n",
    "                            (9,2015,55665),\n",
    "                            (10,2014,35467);\"\"\""
   ]
  },
  {
   "cell_type": "code",
   "execution_count": 5,
   "id": "f2b2b831",
   "metadata": {},
   "outputs": [
    {
     "data": {
      "text/plain": [
       "<sqlite3.Cursor at 0x20745353e40>"
      ]
     },
     "execution_count": 5,
     "metadata": {},
     "output_type": "execute_result"
    }
   ],
   "source": [
    "cur.execute(ins)"
   ]
  },
  {
   "cell_type": "code",
   "execution_count": 6,
   "id": "657b78ba",
   "metadata": {},
   "outputs": [],
   "source": [
    "r=\"select*from sales1\""
   ]
  },
  {
   "cell_type": "code",
   "execution_count": 7,
   "id": "2ccb9c97",
   "metadata": {},
   "outputs": [
    {
     "data": {
      "text/plain": [
       "<sqlite3.Cursor at 0x20745353e40>"
      ]
     },
     "execution_count": 7,
     "metadata": {},
     "output_type": "execute_result"
    }
   ],
   "source": [
    "cur.execute(r)\n"
   ]
  },
  {
   "cell_type": "code",
   "execution_count": 8,
   "id": "a02378c1",
   "metadata": {},
   "outputs": [],
   "source": [
    "rec=cur.fetchall()"
   ]
  },
  {
   "cell_type": "markdown",
   "id": "8a2c6dac",
   "metadata": {},
   "source": [
    "### B. Export sales table data into sales.csv file."
   ]
  },
  {
   "cell_type": "code",
   "execution_count": 9,
   "id": "6e7dce66",
   "metadata": {},
   "outputs": [],
   "source": [
    "import csv"
   ]
  },
  {
   "cell_type": "code",
   "execution_count": 10,
   "id": "202a9284",
   "metadata": {},
   "outputs": [],
   "source": [
    "heading=['sid','year','totalsales']\n",
    "with open('sales1.csv','w',newline='')  as file:\n",
    "    csv_writer=csv.writer(file)\n",
    "    csv_writer.writerow(heading)\n",
    "    csv_writer.writerows(rec)\n",
    "conn.close()"
   ]
  },
  {
   "cell_type": "code",
   "execution_count": 11,
   "id": "76bfe804",
   "metadata": {},
   "outputs": [],
   "source": [
    "import pandas as pd\n",
    "import matplotlib.pyplot as plt\n",
    "%matplotlib inline"
   ]
  },
  {
   "cell_type": "code",
   "execution_count": 12,
   "id": "7590b0f3",
   "metadata": {},
   "outputs": [
    {
     "data": {
      "text/html": [
       "<div>\n",
       "<style scoped>\n",
       "    .dataframe tbody tr th:only-of-type {\n",
       "        vertical-align: middle;\n",
       "    }\n",
       "\n",
       "    .dataframe tbody tr th {\n",
       "        vertical-align: top;\n",
       "    }\n",
       "\n",
       "    .dataframe thead th {\n",
       "        text-align: right;\n",
       "    }\n",
       "</style>\n",
       "<table border=\"1\" class=\"dataframe\">\n",
       "  <thead>\n",
       "    <tr style=\"text-align: right;\">\n",
       "      <th></th>\n",
       "      <th>sid</th>\n",
       "      <th>year</th>\n",
       "      <th>totalsales</th>\n",
       "    </tr>\n",
       "  </thead>\n",
       "  <tbody>\n",
       "    <tr>\n",
       "      <th>0</th>\n",
       "      <td>1</td>\n",
       "      <td>2018</td>\n",
       "      <td>53000</td>\n",
       "    </tr>\n",
       "    <tr>\n",
       "      <th>1</th>\n",
       "      <td>2</td>\n",
       "      <td>2019</td>\n",
       "      <td>44556</td>\n",
       "    </tr>\n",
       "    <tr>\n",
       "      <th>2</th>\n",
       "      <td>3</td>\n",
       "      <td>2020</td>\n",
       "      <td>54466</td>\n",
       "    </tr>\n",
       "    <tr>\n",
       "      <th>3</th>\n",
       "      <td>4</td>\n",
       "      <td>2021</td>\n",
       "      <td>34555</td>\n",
       "    </tr>\n",
       "    <tr>\n",
       "      <th>4</th>\n",
       "      <td>5</td>\n",
       "      <td>2022</td>\n",
       "      <td>36556</td>\n",
       "    </tr>\n",
       "    <tr>\n",
       "      <th>5</th>\n",
       "      <td>6</td>\n",
       "      <td>2023</td>\n",
       "      <td>34463</td>\n",
       "    </tr>\n",
       "    <tr>\n",
       "      <th>6</th>\n",
       "      <td>7</td>\n",
       "      <td>2017</td>\n",
       "      <td>34453</td>\n",
       "    </tr>\n",
       "    <tr>\n",
       "      <th>7</th>\n",
       "      <td>8</td>\n",
       "      <td>2016</td>\n",
       "      <td>22614</td>\n",
       "    </tr>\n",
       "    <tr>\n",
       "      <th>8</th>\n",
       "      <td>9</td>\n",
       "      <td>2015</td>\n",
       "      <td>55665</td>\n",
       "    </tr>\n",
       "    <tr>\n",
       "      <th>9</th>\n",
       "      <td>10</td>\n",
       "      <td>2014</td>\n",
       "      <td>35467</td>\n",
       "    </tr>\n",
       "  </tbody>\n",
       "</table>\n",
       "</div>"
      ],
      "text/plain": [
       "   sid  year  totalsales\n",
       "0    1  2018       53000\n",
       "1    2  2019       44556\n",
       "2    3  2020       54466\n",
       "3    4  2021       34555\n",
       "4    5  2022       36556\n",
       "5    6  2023       34463\n",
       "6    7  2017       34453\n",
       "7    8  2016       22614\n",
       "8    9  2015       55665\n",
       "9   10  2014       35467"
      ]
     },
     "execution_count": 12,
     "metadata": {},
     "output_type": "execute_result"
    }
   ],
   "source": [
    "df=pd.read_csv(\"sales1.csv\")\n",
    "df"
   ]
  },
  {
   "cell_type": "markdown",
   "id": "1e212c01",
   "metadata": {},
   "source": [
    "### C. Write a python scripts that read the sales.csv file and plot a bar chart that shows totalsales of the year. \n",
    "\n",
    "#### Also decorate the chart with appropriate title, lables, colours etc."
   ]
  },
  {
   "cell_type": "code",
   "execution_count": 13,
   "id": "7c1f348d",
   "metadata": {},
   "outputs": [
    {
     "data": {
      "image/png": "[encoded data removed]",
      "text/plain": [
       "<Figure size 400x400 with 1 Axes>"
      ]
     },
     "metadata": {},
     "output_type": "display_data"
    }
   ],
   "source": [
    "plt.figure(figsize=(4,4))\n",
    "plt.bar(df['year'],df['totalsales'],color=['red', 'green', 'blue', 'cyan','pink','gray'])\n",
    "plt.xlabel('YEAR',labelpad=30)\n",
    "plt.ylabel('TOTAL SALES',labelpad=30)\n",
    "plt.title('Total Sale Of The Year',fontsize=18,pad=20)\n",
    "#plt.xticks(rotation=30)\n",
    "plt.show()"
   ]
  },
  {
   "cell_type": "code",
   "execution_count": null,
   "id": "16f15d7a",
   "metadata": {},
   "outputs": [],
   "source": []
  }
 ],
 "metadata": {
  "kernelspec": {
   "display_name": "Python 3 (ipykernel)",
   "language": "python",
   "name": "python3"
  },
  "language_info": {
   "codemirror_mode": {
    "name": "ipython",
    "version": 3
   },
   "file_extension": ".py",
   "mimetype": "text/x-python",
   "name": "python",
   "nbconvert_exporter": "python",
   "pygments_lexer": "ipython3",
   "version": "3.10.10"
  }
 },
 "nbformat": 4,
 "nbformat_minor": 5
}
