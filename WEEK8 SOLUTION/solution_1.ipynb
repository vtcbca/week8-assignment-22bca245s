{
 "cells": [
  {
   "cell_type": "markdown",
   "id": "40358331",
   "metadata": {},
   "source": [
    "### Create CSV File for Product Selling for 6 Months and add at-least 5 Records for 5 different products. \n",
    "### (Prod_Name, Jan ,Feb, Mar, Apr , May, Jun ) "
   ]
  },
  {
   "cell_type": "code",
   "execution_count": 1,
   "id": "9872318b",
   "metadata": {},
   "outputs": [],
   "source": [
    "import pandas as pd\n",
    "import matplotlib.pyplot as plt\n",
    "%matplotlib inline"
   ]
  },
  {
   "cell_type": "code",
   "execution_count": 3,
   "id": "1d5ef807",
   "metadata": {},
   "outputs": [],
   "source": [
    "import csv\n",
    "with open('E:\\\\product_selling1.csv','w',newline='') as file:\n",
    "    csv_w=csv.writer(file)\n",
    "    columns=['Prod_No', 'Prod_Name',' Jan','Feb','Mar','Apr','May','Jun']\n",
    "    csv_w.writerow(columns)"
   ]
  },
  {
   "cell_type": "code",
   "execution_count": 4,
   "id": "71a2b13a",
   "metadata": {},
   "outputs": [
    {
     "name": "stdout",
     "output_type": "stream",
     "text": [
      "Enter product number:1\n",
      "Enter Product Name:T.V\n",
      "Enter product sales in January:45\n",
      "Enter product sales in February:56\n",
      "Enter product sales in March:67\n",
      "Enter product sales in APril:78\n",
      "Enter product sales in May:75\n",
      "Enter product sales in June:45\n",
      "Enter product number:2\n",
      "Enter Product Name:FAN\n",
      "Enter product sales in January:45\n",
      "Enter product sales in February:56\n",
      "Enter product sales in March:54\n",
      "Enter product sales in APril:34\n",
      "Enter product sales in May:56\n",
      "Enter product sales in June:56\n",
      "Enter product number:3\n",
      "Enter Product Name:IRON\n",
      "Enter product sales in January:56\n",
      "Enter product sales in February:78\n",
      "Enter product sales in March:56\n",
      "Enter product sales in APril:56\n",
      "Enter product sales in May:67\n",
      "Enter product sales in June:56\n",
      "Enter product number:4\n",
      "Enter Product Name:CAMERA\n",
      "Enter product sales in January:544\n",
      "Enter product sales in February:45\n",
      "Enter product sales in March:34\n",
      "Enter product sales in APril:34\n",
      "Enter product sales in May:56\n",
      "Enter product sales in June:45\n",
      "Enter product number:5\n",
      "Enter Product Name:BULB\n",
      "Enter product sales in January:45\n",
      "Enter product sales in February:56\n",
      "Enter product sales in March:35\n",
      "Enter product sales in APril:56\n",
      "Enter product sales in May:34\n",
      "Enter product sales in June:43\n"
     ]
    }
   ],
   "source": [
    "with open('E:\\\\product_selling1.csv','a',newline='') as f :\n",
    "    csv_w=csv.writer(f)\n",
    "    records=[]\n",
    "    for i in range(5):\n",
    "        Prod_No=int(input(\"Enter product number:\"))\n",
    "        Prod_Name=input(\"Enter Product Name:\")\n",
    "        Jan=int(input(\"Enter product sales in January:\"))\n",
    "        Feb=int(input(\"Enter product sales in February:\"))\n",
    "        Mar=int(input(\"Enter product sales in March:\"))\n",
    "        Apr=int(input(\"Enter product sales in APril:\"))\n",
    "        May=int(input(\"Enter product sales in May:\"))\n",
    "        Jun=int(input(\"Enter product sales in June:\"))\n",
    "        t=( Prod_No,Prod_Name,Jan,Feb,Mar,Apr,May,Jun)\n",
    "        records.append(t)\n",
    "    csv_w.writerows(records)"
   ]
  },
  {
   "cell_type": "markdown",
   "id": "69419280",
   "metadata": {},
   "source": [
    "### A. Read data in Dataframe. "
   ]
  },
  {
   "cell_type": "code",
   "execution_count": 5,
   "id": "f15e1acb",
   "metadata": {},
   "outputs": [
    {
     "name": "stdout",
     "output_type": "stream",
     "text": [
      "   Prod_No Prod_Name   Jan  Feb  Mar  Apr  May  Jun\n",
      "0        1       T.V    45   56   67   78   75   45\n",
      "1        2       FAN    45   56   54   34   56   56\n",
      "2        3      IRON    56   78   56   56   67   56\n",
      "3        4    CAMERA   544   45   34   34   56   45\n",
      "4        5      BULB    45   56   35   56   34   43\n"
     ]
    }
   ],
   "source": [
    "file=\"E:\\\\product_selling1.csv\"\n",
    "my_df =  pd.read_csv(file)\n",
    "print (my_df)\n"
   ]
  },
  {
   "cell_type": "markdown",
   "id": "6acec44a",
   "metadata": {},
   "source": [
    "### B. Add columns and calculate total_sell, average_sell. "
   ]
  },
  {
   "cell_type": "code",
   "execution_count": 9,
   "id": "1bd9217c",
   "metadata": {},
   "outputs": [
    {
     "name": "stdout",
     "output_type": "stream",
     "text": [
      "\n",
      "4. Add column Total Sell to count total of all month and Average Sell:-\n"
     ]
    },
    {
     "data": {
      "text/html": [
       "<div>\n",
       "<style scoped>\n",
       "    .dataframe tbody tr th:only-of-type {\n",
       "        vertical-align: middle;\n",
       "    }\n",
       "\n",
       "    .dataframe tbody tr th {\n",
       "        vertical-align: top;\n",
       "    }\n",
       "\n",
       "    .dataframe thead th {\n",
       "        text-align: right;\n",
       "    }\n",
       "</style>\n",
       "<table border=\"1\" class=\"dataframe\">\n",
       "  <thead>\n",
       "    <tr style=\"text-align: right;\">\n",
       "      <th></th>\n",
       "      <th>Prod_No</th>\n",
       "      <th>Prod_Name</th>\n",
       "      <th>Jan</th>\n",
       "      <th>Feb</th>\n",
       "      <th>Mar</th>\n",
       "      <th>Apr</th>\n",
       "      <th>May</th>\n",
       "      <th>Jun</th>\n",
       "      <th>Total</th>\n",
       "      <th>Average</th>\n",
       "    </tr>\n",
       "  </thead>\n",
       "  <tbody>\n",
       "    <tr>\n",
       "      <th>0</th>\n",
       "      <td>1</td>\n",
       "      <td>T.V</td>\n",
       "      <td>45</td>\n",
       "      <td>56</td>\n",
       "      <td>67</td>\n",
       "      <td>78</td>\n",
       "      <td>75</td>\n",
       "      <td>45</td>\n",
       "      <td>366</td>\n",
       "      <td>61.000000</td>\n",
       "    </tr>\n",
       "    <tr>\n",
       "      <th>1</th>\n",
       "      <td>2</td>\n",
       "      <td>FAN</td>\n",
       "      <td>45</td>\n",
       "      <td>56</td>\n",
       "      <td>54</td>\n",
       "      <td>34</td>\n",
       "      <td>56</td>\n",
       "      <td>56</td>\n",
       "      <td>301</td>\n",
       "      <td>50.166667</td>\n",
       "    </tr>\n",
       "    <tr>\n",
       "      <th>2</th>\n",
       "      <td>3</td>\n",
       "      <td>IRON</td>\n",
       "      <td>56</td>\n",
       "      <td>78</td>\n",
       "      <td>56</td>\n",
       "      <td>56</td>\n",
       "      <td>67</td>\n",
       "      <td>56</td>\n",
       "      <td>369</td>\n",
       "      <td>61.500000</td>\n",
       "    </tr>\n",
       "    <tr>\n",
       "      <th>3</th>\n",
       "      <td>4</td>\n",
       "      <td>CAMERA</td>\n",
       "      <td>544</td>\n",
       "      <td>45</td>\n",
       "      <td>34</td>\n",
       "      <td>34</td>\n",
       "      <td>56</td>\n",
       "      <td>45</td>\n",
       "      <td>758</td>\n",
       "      <td>126.333333</td>\n",
       "    </tr>\n",
       "    <tr>\n",
       "      <th>4</th>\n",
       "      <td>5</td>\n",
       "      <td>BULB</td>\n",
       "      <td>45</td>\n",
       "      <td>56</td>\n",
       "      <td>35</td>\n",
       "      <td>56</td>\n",
       "      <td>34</td>\n",
       "      <td>43</td>\n",
       "      <td>269</td>\n",
       "      <td>44.833333</td>\n",
       "    </tr>\n",
       "  </tbody>\n",
       "</table>\n",
       "</div>"
      ],
      "text/plain": [
       "   Prod_No Prod_Name   Jan  Feb  Mar  Apr  May  Jun  Total     Average\n",
       "0        1       T.V    45   56   67   78   75   45    366   61.000000\n",
       "1        2       FAN    45   56   54   34   56   56    301   50.166667\n",
       "2        3      IRON    56   78   56   56   67   56    369   61.500000\n",
       "3        4    CAMERA   544   45   34   34   56   45    758  126.333333\n",
       "4        5      BULB    45   56   35   56   34   43    269   44.833333"
      ]
     },
     "execution_count": 9,
     "metadata": {},
     "output_type": "execute_result"
    }
   ],
   "source": [
    "print(\"\\n4. Add column Total Sell to count total of all month and Average Sell:-\")\n",
    "total_sell=my_df[' Jan']+my_df['Feb']+my_df['Mar']+my_df['Apr']+my_df['May']+my_df['Jun']\n",
    "my_df['Total']=total_sell\n",
    "avg_sell=my_df['Total']/6\n",
    "my_df['Average']=avg_sell\n",
    "my_df"
   ]
  },
  {
   "cell_type": "markdown",
   "id": "29b256cc",
   "metadata": {},
   "source": [
    "### C. Plot Total sell and average sell together on line chart with proper Legends, titles and lables."
   ]
  },
  {
   "cell_type": "code",
   "execution_count": 14,
   "id": "38ee20f7",
   "metadata": {},
   "outputs": [
    {
     "data": {
      "image/png": "[encoded data removed]",
      "text/plain": [
       "<Figure size 640x480 with 1 Axes>"
      ]
     },
     "metadata": {},
     "output_type": "display_data"
    }
   ],
   "source": [
    "plt.plot(my_df['Prod_Name'],my_df['Total'],marker='o',color=\"r\")\n",
    "plt.plot(my_df['Prod_Name'],my_df['Average'],marker='o')\n",
    "plt.xlabel('Product Name')\n",
    "plt.ylabel('No. of Product')\n",
    "plt.legend(['Total','Average'])\n",
    "plt.title(\"Graph Of Total AND Average Sell Of Product\")\n",
    "#plt.xticks(rotation=15)\n",
    "plt.show()"
   ]
  },
  {
   "cell_type": "markdown",
   "id": "5de701d3",
   "metadata": {},
   "source": [
    "### D. Explain final dataframe to csv named sell_analysis.csv "
   ]
  },
  {
   "cell_type": "code",
   "execution_count": 13,
   "id": "65f22d6b",
   "metadata": {},
   "outputs": [
    {
     "data": {
      "text/html": [
       "<div>\n",
       "<style scoped>\n",
       "    .dataframe tbody tr th:only-of-type {\n",
       "        vertical-align: middle;\n",
       "    }\n",
       "\n",
       "    .dataframe tbody tr th {\n",
       "        vertical-align: top;\n",
       "    }\n",
       "\n",
       "    .dataframe thead th {\n",
       "        text-align: right;\n",
       "    }\n",
       "</style>\n",
       "<table border=\"1\" class=\"dataframe\">\n",
       "  <thead>\n",
       "    <tr style=\"text-align: right;\">\n",
       "      <th></th>\n",
       "      <th>Prod_No</th>\n",
       "      <th>Prod_Name</th>\n",
       "      <th>Jan</th>\n",
       "      <th>Feb</th>\n",
       "      <th>Mar</th>\n",
       "      <th>Apr</th>\n",
       "      <th>May</th>\n",
       "      <th>Jun</th>\n",
       "      <th>Total</th>\n",
       "      <th>Average</th>\n",
       "    </tr>\n",
       "  </thead>\n",
       "  <tbody>\n",
       "    <tr>\n",
       "      <th>0</th>\n",
       "      <td>1</td>\n",
       "      <td>T.V</td>\n",
       "      <td>45</td>\n",
       "      <td>56</td>\n",
       "      <td>67</td>\n",
       "      <td>78</td>\n",
       "      <td>75</td>\n",
       "      <td>45</td>\n",
       "      <td>366</td>\n",
       "      <td>61.000000</td>\n",
       "    </tr>\n",
       "    <tr>\n",
       "      <th>1</th>\n",
       "      <td>2</td>\n",
       "      <td>FAN</td>\n",
       "      <td>45</td>\n",
       "      <td>56</td>\n",
       "      <td>54</td>\n",
       "      <td>34</td>\n",
       "      <td>56</td>\n",
       "      <td>56</td>\n",
       "      <td>301</td>\n",
       "      <td>50.166667</td>\n",
       "    </tr>\n",
       "    <tr>\n",
       "      <th>2</th>\n",
       "      <td>3</td>\n",
       "      <td>IRON</td>\n",
       "      <td>56</td>\n",
       "      <td>78</td>\n",
       "      <td>56</td>\n",
       "      <td>56</td>\n",
       "      <td>67</td>\n",
       "      <td>56</td>\n",
       "      <td>369</td>\n",
       "      <td>61.500000</td>\n",
       "    </tr>\n",
       "    <tr>\n",
       "      <th>3</th>\n",
       "      <td>4</td>\n",
       "      <td>CAMERA</td>\n",
       "      <td>544</td>\n",
       "      <td>45</td>\n",
       "      <td>34</td>\n",
       "      <td>34</td>\n",
       "      <td>56</td>\n",
       "      <td>45</td>\n",
       "      <td>758</td>\n",
       "      <td>126.333333</td>\n",
       "    </tr>\n",
       "    <tr>\n",
       "      <th>4</th>\n",
       "      <td>5</td>\n",
       "      <td>BULB</td>\n",
       "      <td>45</td>\n",
       "      <td>56</td>\n",
       "      <td>35</td>\n",
       "      <td>56</td>\n",
       "      <td>34</td>\n",
       "      <td>43</td>\n",
       "      <td>269</td>\n",
       "      <td>44.833333</td>\n",
       "    </tr>\n",
       "  </tbody>\n",
       "</table>\n",
       "</div>"
      ],
      "text/plain": [
       "   Prod_No Prod_Name   Jan  Feb  Mar  Apr  May  Jun  Total     Average\n",
       "0        1       T.V    45   56   67   78   75   45    366   61.000000\n",
       "1        2       FAN    45   56   54   34   56   56    301   50.166667\n",
       "2        3      IRON    56   78   56   56   67   56    369   61.500000\n",
       "3        4    CAMERA   544   45   34   34   56   45    758  126.333333\n",
       "4        5      BULB    45   56   35   56   34   43    269   44.833333"
      ]
     },
     "execution_count": 13,
     "metadata": {},
     "output_type": "execute_result"
    }
   ],
   "source": [
    "my_df.to_csv('file')\n",
    "my_df"
   ]
  },
  {
   "cell_type": "code",
   "execution_count": null,
   "id": "abc6cf7f",
   "metadata": {},
   "outputs": [],
   "source": []
  }
 ],
 "metadata": {
  "kernelspec": {
   "display_name": "Python 3 (ipykernel)",
   "language": "python",
   "name": "python3"
  },
  "language_info": {
   "codemirror_mode": {
    "name": "ipython",
    "version": 3
   },
   "file_extension": ".py",
   "mimetype": "text/x-python",
   "name": "python",
   "nbconvert_exporter": "python",
   "pygments_lexer": "ipython3",
   "version": "3.10.10"
  }
 },
 "nbformat": 4,
 "nbformat_minor": 5
}
